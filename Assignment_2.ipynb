{
  "nbformat": 4,
  "nbformat_minor": 0,
  "metadata": {
    "colab": {
      "name": "Assignment 2.ipynb",
      "provenance": [],
      "collapsed_sections": [],
      "authorship_tag": "ABX9TyNaWzCUtBXbBSS5hmJDm3wn",
      "include_colab_link": true
    },
    "kernelspec": {
      "name": "python3",
      "display_name": "Python 3"
    },
    "language_info": {
      "name": "python"
    }
  },
  "cells": [
    {
      "cell_type": "markdown",
      "metadata": {
        "id": "view-in-github",
        "colab_type": "text"
      },
      "source": [
        "<a href=\"https://colab.research.google.com/github/TintyPearl/Pearl/blob/main/Assignment_2.ipynb\" target=\"_parent\"><img src=\"https://colab.research.google.com/assets/colab-badge.svg\" alt=\"Open In Colab\"/></a>"
      ]
    },
    {
      "cell_type": "code",
      "metadata": {
        "id": "p1BQFlg5pbsV"
      },
      "source": [
        ""
      ],
      "execution_count": null,
      "outputs": []
    },
    {
      "cell_type": "markdown",
      "metadata": {
        "id": "VyqUE72cpk6L"
      },
      "source": [
        "Floats\n",
        "\n",
        "Any number with a fractional part\n"
      ]
    },
    {
      "cell_type": "markdown",
      "metadata": {
        "id": "AcOzaTvqqUrU"
      },
      "source": [
        "This is how we can add floats,by assigning a floating number to a variable then adding them together"
      ]
    },
    {
      "cell_type": "code",
      "metadata": {
        "colab": {
          "base_uri": "https://localhost:8080/"
        },
        "id": "bkrHJaffpxld",
        "outputId": "2624a744-bc27-4097-e3c1-f8780db2d794"
      },
      "source": [
        "a= 69.5\n",
        "b= 49.6\n",
        "a+b"
      ],
      "execution_count": 7,
      "outputs": [
        {
          "output_type": "execute_result",
          "data": {
            "text/plain": [
              "119.1"
            ]
          },
          "metadata": {
            "tags": []
          },
          "execution_count": 7
        }
      ]
    },
    {
      "cell_type": "code",
      "metadata": {
        "colab": {
          "base_uri": "https://localhost:8080/"
        },
        "id": "Jm3bB4FWqDw4",
        "outputId": "8e0da10e-dc10-4cec-bc52-fac2943536fb"
      },
      "source": [
        "c=645.978\n",
        "d=573.999\n",
        "c+d"
      ],
      "execution_count": null,
      "outputs": [
        {
          "output_type": "execute_result",
          "data": {
            "text/plain": [
              "1219.9769999999999"
            ]
          },
          "metadata": {
            "tags": []
          },
          "execution_count": 2
        }
      ]
    },
    {
      "cell_type": "markdown",
      "metadata": {
        "id": "KDGzZ54Gqi3A"
      },
      "source": [
        "We can also subtract floating numbers by assigning a certain variable to a floating number then subtracting\n"
      ]
    },
    {
      "cell_type": "code",
      "metadata": {
        "colab": {
          "base_uri": "https://localhost:8080/"
        },
        "id": "ykxSwud-qxOf",
        "outputId": "3b4ba116-9389-4c88-e451-58fda20329b1"
      },
      "source": [
        " e= 37.4\n",
        " f=87.9\n",
        " e-f"
      ],
      "execution_count": null,
      "outputs": [
        {
          "output_type": "execute_result",
          "data": {
            "text/plain": [
              "-50.50000000000001"
            ]
          },
          "metadata": {
            "tags": []
          },
          "execution_count": 3
        }
      ]
    },
    {
      "cell_type": "code",
      "metadata": {
        "colab": {
          "base_uri": "https://localhost:8080/"
        },
        "id": "aozqUZ-Pq4ze",
        "outputId": "98100e9c-d558-4d97-c628-d9a9559f27bc"
      },
      "source": [
        "g= 4444.5555\n",
        "h=1000.00999\n",
        "h-g"
      ],
      "execution_count": null,
      "outputs": [
        {
          "output_type": "execute_result",
          "data": {
            "text/plain": [
              "-3444.5455100000004"
            ]
          },
          "metadata": {
            "tags": []
          },
          "execution_count": 4
        }
      ]
    },
    {
      "cell_type": "markdown",
      "metadata": {
        "id": "t5CvbBAWrJWw"
      },
      "source": [
        "We can also multiply floats"
      ]
    },
    {
      "cell_type": "code",
      "metadata": {
        "colab": {
          "base_uri": "https://localhost:8080/"
        },
        "id": "Eqb1KR84rSf-",
        "outputId": "521aa7d4-4058-48c5-ea4b-97cbb0401f70"
      },
      "source": [
        "i=4.7\n",
        "j=5.6\n",
        "i*j"
      ],
      "execution_count": null,
      "outputs": [
        {
          "output_type": "execute_result",
          "data": {
            "text/plain": [
              "26.32"
            ]
          },
          "metadata": {
            "tags": []
          },
          "execution_count": 5
        }
      ]
    },
    {
      "cell_type": "code",
      "metadata": {
        "colab": {
          "base_uri": "https://localhost:8080/"
        },
        "id": "vFO3BEH2rZMd",
        "outputId": "fe3be65a-6390-4da1-facd-a3d1f4236972"
      },
      "source": [
        "k=2.56\n",
        "l=6.45\n",
        "k*l"
      ],
      "execution_count": null,
      "outputs": [
        {
          "output_type": "execute_result",
          "data": {
            "text/plain": [
              "16.512"
            ]
          },
          "metadata": {
            "tags": []
          },
          "execution_count": 6
        }
      ]
    },
    {
      "cell_type": "markdown",
      "metadata": {
        "id": "5E_pWdNYrjIB"
      },
      "source": [
        "This is how we divide floats"
      ]
    },
    {
      "cell_type": "code",
      "metadata": {
        "colab": {
          "base_uri": "https://localhost:8080/"
        },
        "id": "Ytgo0YCVrqfs",
        "outputId": "7b011c68-532f-4129-a148-566f6f394d4e"
      },
      "source": [
        "l=7.3\n",
        "m=5.4\n",
        "l/m"
      ],
      "execution_count": null,
      "outputs": [
        {
          "output_type": "execute_result",
          "data": {
            "text/plain": [
              "1.3518518518518516"
            ]
          },
          "metadata": {
            "tags": []
          },
          "execution_count": 8
        }
      ]
    }
  ]
}